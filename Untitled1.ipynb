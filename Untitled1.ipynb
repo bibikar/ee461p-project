{
 "cells": [
  {
   "cell_type": "code",
   "execution_count": 1,
   "metadata": {},
   "outputs": [],
   "source": [
    "import numpy as np\n",
    "import pandas as pd\n",
    "\n",
    "tracks = ['TRELZQE128F425B4F3', 'TRANLFI128F9344CDD', 'TROQNGU128F421A0C6',\n",
    "       'TRBUELP128F934FDEF', 'TRANEZZ128F92FFC06', 'TRUWTDA128F427648A',\n",
    "       'TRYBKHT128F1496141', 'TRVCBXA128E0785856', 'TRBLKFV12903CBB112',\n",
    "       'TRVAHCD128F427D287']"
   ]
  },
  {
   "cell_type": "code",
   "execution_count": 12,
   "metadata": {},
   "outputs": [
    {
     "name": "stdout",
     "output_type": "stream",
     "text": [
      "I Wish I Could Have Loved You More\n",
      "Pebbles\n",
      "My Republic\n",
      "The Dick Swanson Theory\n",
      "Los Angeles\n",
      "Hard Nuts and Hard Cunts\n",
      "An Ordinary Day In An Unusual Place\n",
      "Dookie\n",
      "Gringo\n",
      "Rabbit Habits\n"
     ]
    }
   ],
   "source": [
    "for t in tracks:\n",
    "    with pd.HDFStore('/mnt/snap/data/{}/{}/{}/{}.h5'.format(t[2], t[3], t[4], t), 'r') as h:\n",
    "        df = h.get('/metadata/songs')\n",
    "        print(df['release'].values[0])"
   ]
  },
  {
   "cell_type": "code",
   "execution_count": null,
   "metadata": {},
   "outputs": [],
   "source": []
  }
 ],
 "metadata": {
  "kernelspec": {
   "display_name": "Python 3",
   "language": "python",
   "name": "python3"
  },
  "language_info": {
   "codemirror_mode": {
    "name": "ipython",
    "version": 3
   },
   "file_extension": ".py",
   "mimetype": "text/x-python",
   "name": "python",
   "nbconvert_exporter": "python",
   "pygments_lexer": "ipython3",
   "version": "3.6.7"
  }
 },
 "nbformat": 4,
 "nbformat_minor": 2
}
